{
 "cells": [
  {
   "cell_type": "markdown",
   "id": "c9c39532",
   "metadata": {},
   "source": [
    "<div style=\"text-align: right\"> &uarr;   Ensure Kernel is set to  &uarr;  </div><br><div style=\"text-align: right\"> \n",
    "conda_python3  </div>"
   ]
  },
  {
   "cell_type": "markdown",
   "id": "52ab17b0",
   "metadata": {},
   "source": [
    "## Data Download and Understanding\n",
    "\n",
    "In this notebook we will do the following \n",
    "\n",
    "1. Create an S3 bucket \n",
    "2. Download data from public s3 bucket owned by Raj \n",
    "3. untar the data \n",
    "4. upload to your s3 bucket created in first step \n",
    "5. examine the data "
   ]
  },
  {
   "cell_type": "markdown",
   "id": "8176ea48",
   "metadata": {},
   "source": [
    "### 1. Create an S3 bucket\n",
    "\n",
    "Change **your-unique-bucket-name** to your unique bucket name. <br>\n",
    "Note : Bucket names are globally unique"
   ]
  },
  {
   "cell_type": "code",
   "execution_count": null,
   "id": "8ea1814d",
   "metadata": {},
   "outputs": [],
   "source": [
    "!aws s3 mb s3://your-unique-bucket-name"
   ]
  },
  {
   "cell_type": "markdown",
   "id": "1a3e2833",
   "metadata": {},
   "source": [
    "Now lets list all of the buckets in your account. You will see the bucket you just created."
   ]
  },
  {
   "cell_type": "code",
   "execution_count": null,
   "id": "685e750b",
   "metadata": {},
   "outputs": [],
   "source": [
    "!aws s3 ls"
   ]
  },
  {
   "cell_type": "markdown",
   "id": "a7dcdfae",
   "metadata": {},
   "source": [
    "### 2. Download Data\n",
    "\n",
    "Here we are going to copy the dataset we will be using for the labs today from our public bucket."
   ]
  },
  {
   "cell_type": "code",
   "execution_count": null,
   "id": "97ee5dad",
   "metadata": {},
   "outputs": [],
   "source": [
    "!aws s3 cp s3://ml-materials/junctions-data.tar.gz ."
   ]
  },
  {
   "cell_type": "markdown",
   "id": "e22eb6f9",
   "metadata": {},
   "source": [
    "### 3. Uncompress the downloaded data\n",
    "\n",
    "We now uncompress extract the TAR archive on our notebook instance"
   ]
  },
  {
   "cell_type": "code",
   "execution_count": null,
   "id": "528bfa66",
   "metadata": {},
   "outputs": [],
   "source": [
    "!tar -xzf junctions-data.tar.gz . --no-same-owner"
   ]
  },
  {
   "cell_type": "markdown",
   "id": "6e1d1750",
   "metadata": {},
   "source": [
    "### 4. Upload data to your bucket\n",
    "\n",
    "Now we copy the extracted dataset to your previously created **S3** bucket \n",
    "Change **your-unique-bucket-name** to your unique bucket name that you created earlier.<br>\n",
    "*Note : Bucket names are globally unique*"
   ]
  },
  {
   "cell_type": "code",
   "execution_count": null,
   "id": "8e70b739",
   "metadata": {},
   "outputs": [],
   "source": [
    "!aws s3 sync ./data/ s3://your-unique-bucket-name"
   ]
  },
  {
   "cell_type": "markdown",
   "id": "9652b7a7",
   "metadata": {},
   "source": [
    "### 5. Quick Examination of images from 3 classes\n",
    "\n",
    "Feel free to play with changing the image names or plotting your own. We will do this again inside Tensorflow notebook.\n",
    "\n",
    "*Note: data below is from local drive*"
   ]
  },
  {
   "cell_type": "code",
   "execution_count": null,
   "id": "81bd1f90",
   "metadata": {},
   "outputs": [],
   "source": [
    "%pylab inline\n",
    "import matplotlib.pyplot as plt\n",
    "import matplotlib.image as mpimg\n",
    "f, axs = plt.subplots(1,3,figsize=(15,15))\n",
    "img1 = mpimg.imread('./data/train/Priority/12481.png')\n",
    "img2 = mpimg.imread('./data/train/Roundabout/53408.png')\n",
    "img3 = mpimg.imread('./data/train/Signal/27258.png')\n",
    "\n",
    "axs[0].imshow(img1)\n",
    "axs[0].set_title(\"Priority\")\n",
    "axs[1].imshow(img2)\n",
    "axs[1].set_title(\"Roundabout\")\n",
    "axs[2].imshow(img3)\n",
    "axs[2].set_title(\"Signal\")\n",
    "\n",
    "plt.show()"
   ]
  }
 ],
 "metadata": {
  "instance_type": "ml.t3.medium",
  "kernelspec": {
   "display_name": "Sparkmagic (PySpark)",
   "language": "python",
   "name": "pysparkkernel"
  },
  "language_info": {
   "codemirror_mode": {
    "name": "python",
    "version": 3
   },
   "file_extension": ".py",
   "mimetype": "text/x-python",
   "name": "pyspark",
   "pygments_lexer": "python3"
  }
 },
 "nbformat": 4,
 "nbformat_minor": 5
}
